{
 "cells": [
  {
   "cell_type": "markdown",
   "metadata": {},
   "source": [
    "# 3.1 REPL 사용하기\n",
    "> REPL : 입력한 코드를 읽고(Read), 해석하고(Eval), 결과물을 반환하고(Print), 종료할 때까지 반복(Loop)한다고 해서 REPL(Read Eval Print Loop)이라고 부름"
   ]
  },
  {
   "cell_type": "markdown",
   "metadata": {},
   "source": [
    "> 모듈(Module) : 특정한 기능을 하는 함수나 변수들의 집합"
   ]
  },
  {
   "cell_type": "markdown",
   "metadata": {},
   "source": [
    "# 3.4 노드 내장 객체 알아보기\n",
    "\n",
    "> global : 브라우저의 window와 같은 전역 객체, 모든 파일에서 접근 가능 <br><br>\n",
    "> console : 디버깅 위해 사용 -> console.log(), console.error() <br><br>\n",
    "> 타이머 : setTimeout(), setInterval(), setImmediate() -> clearTimeout(), cleanInterval(), clearImmediate() <br><br>\n",
    "> __filename, __dirname : 파일명, 디렉토리명 <br><br>\n",
    "> module, exports : 모듈을 만들 때 사용, module.exports == exports  /  module.exports.add() = exports.add() <br><br>\n",
    "> process : 현재 실행되고 있는 노드 프로세스에 대한 정보를 담고 있음, .version, .arch, .platform, .pid, .uptime(), execPath, cwd(), cpuUsage() 등\n",
    ">> process.env : 환경 변수 (시스템의 예민한 정보들, API key, DB password 등) <br>\n",
    ">> process.nextTick(콜백) : 이벤트 루프가 다른 콜백 함수들보다 nextTick의 콜백 함수를 우선으로 처리하도록 만듦, 즉 setImmediate나 setTimeout 보다 먼저 실행됨. process.nextTick과 Promise를 마이크로태스크(Microtask)라고 따로 구분지어 부름, '아래 그림 참조' <br>\n",
    ">> process.exit(코드) : 실행중인 노드 프로세스를 종료\n"
   ]
  },
  {
   "cell_type": "markdown",
   "metadata": {},
   "source": [
    "<img src=\"microtaskq.gif\">"
   ]
  },
  {
   "cell_type": "markdown",
   "metadata": {},
   "source": [
    "# 3.5 노드 내장 모듈 사용하기\n",
    "> os : 웹 브라우저에 사용되는 자바스크립트는 운영체제의 정보를 가져올 수 없지만, 노드는 os 모듈에 정보가 담겨있어 정보를 가져올 수 있음, 주로 컴퓨터 내부 자원에 빈번하게 접근하는 경우 사용\n",
    ">> os.arch() : process.arch와 동일  <br><br>\n",
    ">> os.platform() : process.platform()과 동일 <br><br>\n",
    ">> os.type() : 운영체제의 종류 <br><br>\n",
    ">> os.uptime() : 운영체제 부팅 이후 흐른 시간(초) 보여줌, process.uptime()은 노드의 실행 시간 <br><br>\n",
    ">> os.hostname() : 컴퓨터의 이름 <br><br>\n",
    ">> os.release() : 운영 체제의 버전 <br><br>\n",
    ">> os.homedir() : 홈 디렉토리 경로 <br><br>\n",
    ">> os.tmpdir() : 임시 파일 저장 경로 <br><br>\n",
    ">> os.cpus() : 컴퓨터의 코어 정보 <br><br>\n",
    ">> os.freemem() : 사용 가능한 메모리(RAM) <br><br>\n",
    ">> os.totalmem() : 전체 메모리 용량 <br><br>\n",
    ">> os.constants() : 각종 에러와 신호에 대한 정보가 담겨있음 <br><br>"
   ]
  },
  {
   "cell_type": "markdown",
   "metadata": {},
   "source": [
    "> path : 폴더와 파일의 경로를 쉽게 조작하도록 도와주는 모듈, 운영체제 별로 경로 구분자가 다르기 때문에 필요함, 즉 Windows는 \\로 구분하지만, 유닉스 기반 운영체제(mac, 리눅스 등)는 /로 구분함\n",
    ">> path.sep : 경로의 구분자, Windows는 \\, POSIX는 / <br><br>\n",
    ">> path.delimiter : 환경 변수의 구분자, process.env.PATH를 입력하면 여러 개의 경로가 이 구분자로 되어 있음, Windows는 ;, POSIX는 : <br><br>\n",
    ">> path.dirname(경로) : 파일이 위치한 폴더 경로 <br><br>\n",
    ">> path.extname(경로) : 파일의 확장자 <br><br>\n",
    ">> path.basename(경로, 확장자) : 파일의 이름(확장자 포함)하여 보여줌 <br><br>\n",
    ">> path.parse(경로) : 파일 경로를 root, dir, base, ext, name으로 분리 <br><br>\n",
    ">> path.format(객체) : path.parse()한 객체를 파일 경로로 합침 <br><br>\n",
    ">> path.normalize(경로) : /나 \\를 실수로 여러번 사용했거나 혼용했을 때, 정상적인 경로로 변환 <br><br>\n",
    ">> path.isAbsolute(경로) : 파일의 경로가 절대경로인지 상대경로인지 true or false로 보여줌 <br><br>\n",
    ">> path.relative(기준경로, 비교경로) : 경로를 두개 넣으면 첫번째 경로에서 두번째 경로로 가는 방법을 알려줌 <br><br>\n",
    ">> path.join(경로, ...) : 여러 인자를 넣으면 하나의 경로로 합쳐줌, 상대경로인 ..(부모 디렉토리)와 .(현 위치)도 알아서 처리해줌 <br><br>\n",
    ">> path.resolve(경로, ...) : path.join()과 비슷하지만 차이가 있음 <br><br>\n",
    ">>> path.join()과 path.resolve() 차이 : path.resolve()는 /를 만나면 절대경로로 인식해서 앞의 경로를 무시하지만, path.join()은 상대경로로 처리 <br><br>\n",
    ">>>> path.join('/a', '/b', 'c'); -> /a/b/c <br><br>\n",
    ">>>> path.resolve('/a', '/b', 'c'); -> /b/c <br><br>"
   ]
  },
  {
   "cell_type": "markdown",
   "metadata": {},
   "source": [
    "> url : 인터넷 주소를 쉽게 조작하도록 도와주는 모듈, 노드 버전 7에서 추가된 WAHTWG(웹 표준을 정하는 단체 이름) 방식의 url과 예전부터 노드에서 사용하던 방식의 url 두가지가 있음<br><br>\n",
    ">> URL 생성자를 통해 url 주소 객체를 만들면 searchParams 객체가 다양한 메소드를 지원함 <br><br>\n",
    ">>> getAll(키) : 키에 해당하는 모든 값을 가져옴<br><br>\n",
    ">>> get(키) : 키에 해당하는 첫 번째 값만 가져옴<br><br>\n",
    ">>> has(키) : 해당 키가 있는지 없는지 검사<br><br>\n",
    ">>> keys() : searchParams의 모든 키를 반복기(iterator, ES2015 문법) 객체로 가져옴<br><br>\n",
    ">>> values() : searchParams의 모든 값을 반복기 객체로 가져옴<br><br>\n",
    ">>> append(키, 값) : 해당 키를 추가함, 같은 키의 값이 있다면 유지하고 하나 더 추가<br><br>\n",
    ">>> set(키, 값) : append와 비슷하지만 같은 키의 값들을 모두 지우고 새로 추가함<br><br>\n",
    ">>> delete(키) : 해당 키를 제거<br><br>\n",
    ">>> toStrig() : 조작한 searchParams 객체를 다시 문자열로 만듦, 문자열을 search에 대입하는 주소 객체에 반영됨<br><br>"
   ]
  },
  {
   "cell_type": "code",
   "execution_count": null,
   "metadata": {},
   "outputs": [],
   "source": [
    "┌────────────────────────────────────────────────────────────────────────────────────────────────┐\n",
    "│                                              href                                              │\n",
    "├──────────┬──┬─────────────────────┬────────────────────────┬───────────────────────────┬───────┤\n",
    "│ protocol │  │        auth         │          host          │           path            │ hash  │\n",
    "│          │  │                     ├─────────────────┬──────┼──────────┬────────────────┤       │\n",
    "│          │  │                     │    hostname     │ port │ pathname │     search     │       │\n",
    "│          │  │                     │                 │      │          ├─┬──────────────┤       │\n",
    "│          │  │                     │                 │      │          │ │    query     │       │\n",
    "\"  https:   //    user   :   pass   @ sub.example.com : 8080   /p/a/t/h  ?  query=string   #hash \"\n",
    "│          │  │          │          │    hostname     │ port │          │                │       │\n",
    "│          │  │          │          ├─────────────────┴──────┤          │                │       │\n",
    "│ protocol │  │ username │ password │          host          │          │                │       │\n",
    "├──────────┴──┼──────────┴──────────┼────────────────────────┤          │                │       │\n",
    "│   origin    │                     │         origin         │ pathname │     search     │ hash  │\n",
    "├─────────────┴─────────────────────┴────────────────────────┴──────────┴────────────────┴───────┤\n",
    "│                                              href                                              │\n",
    "└────────────────────────────────────────────────────────────────────────────────────────────────┘\n",
    "\n",
    "\n",
    "----기존 방식----\n",
    "const url = require('url');\n",
    " \n",
    "//주소 문자열을 URL 객체로 만들기\n",
    "const parsedUrl = url.parse('https://sskey.tistory.com/manage/newpost/?type=post&returnURL=%2Fmanage%2Fposts%2F');\n",
    "console.log('url.parse():', parsedUrl);\n",
    "// url.parse(): Url {\n",
    "//     protocol: 'https:',\n",
    "//     slashes: true,\n",
    "//     auth: null,\n",
    "//     host: 'sskey.tistory.com',\n",
    "//     port: null,\n",
    "//     hostname: 'sskey.tistory.com',\n",
    "//     hash: null,\n",
    "//     search: '?type=post&returnURL=%2Fmanage%2Fposts%2F',\n",
    "//     query: 'type=post&returnURL=%2Fmanage%2Fposts%2F',\n",
    "//     pathname: '/manage/newpost/',\n",
    "//     path: '/manage/newpost/?type=post&returnURL=%2Fmanage%2Fposts%2F',\n",
    "//     href: 'https://sskey.tistory.com/manage/newpost/?type=post&returnURL=%2Fmanage%2Fposts%2F'\n",
    "//   }\n",
    " \n",
    " \n",
    "//URL 객체를 주소 문자열로 만들기\n",
    "console.log('url.format():', url.format(parsedUrl));\n",
    "//   url.format(): https://sskey.tistory.com/manage/newpost/?type=post&returnURL=%2Fmanage%2Fposts%2F\n",
    "\n",
    "----WAHTWG방식----\n",
    "const { URL } = require('url');\n",
    " \n",
    "const myURL = new URL('https://sskey.tistory.com/manage/newpost/?type=post&returnURL=%2Fmanage%2Fposts%2F');\n",
    "console.log('new URL():', myURL);\n",
    "// new URL(): URL {\n",
    "//     href: 'https://sskey.tistory.com/manage/newpost/?type=post&returnURL=%2Fmanage%2Fposts%2F',\n",
    "//     origin: 'https://sskey.tistory.com',\n",
    "//     protocol: 'https:',\n",
    "//     username: '',\n",
    "//     password: '',\n",
    "//     host: 'sskey.tistory.com',\n",
    "//     hostname: 'sskey.tistory.com',\n",
    "//     port: '',\n",
    "//     pathname: '/manage/newpost/',\n",
    "//     search: '?type=post&returnURL=%2Fmanage%2Fposts%2F',\n",
    "//     searchParams: URLSearchParams { 'type' => 'post', 'returnURL' => '/manage/posts/' },\n",
    "//     hash: ''\n",
    "//   }\n",
    " \n",
    " \n",
    "console.log('url.format():', url.format(myURL));\n",
    "//   url.format(): https://sskey.tistory.com/manage/newpost/?type=post&returnURL=%2Fmanage%2Fposts%2F"
   ]
  },
  {
   "cell_type": "markdown",
   "metadata": {},
   "source": [
    "> querystring : WHATWG 방식의 url 대신 기존 노드의 url을 사용할 때 search 부분을 사용하기 쉽게 객체로 만드는 모듈<br><br>\n",
    ">> querystring.parse(쿼리) : url의 query 부분을 자바스크립트 객체로 분해함<br><br>\n",
    ">> querystring.stringify(객체) : 분해된 query 객체를 문자열로 다시 조립해줌"
   ]
  },
  {
   "cell_type": "markdown",
   "metadata": {},
   "source": [
    "> crypto : 다양한 방식의 암호화를 도와주는 모듈<br><br>\n",
    ">> 단방향 암호화 : 복호화할 수 없는 암호화 방식, 한번 암호화 하면 원래 문자열을 찾을 수 없음 > 해시 기법 사용 (어떠한 문자열을 고정된 길이의 다른 문자열로 바꿔버리는 방식)<br><br>\n",
    ">>> createhash(알고리즘) : 사용할 해시 알고리즘을 넣어줌<br><br>\n",
    ">>> update(문자열) : 변환할 문자열을 넣어줌<br><br>\n",
    ">>> digest(인코딩) : 인코딩할 알고리즘을 넣어줌, base64 자주 사용됨<br><br>\n",
    "....<br><br>"
   ]
  },
  {
   "cell_type": "markdown",
   "metadata": {},
   "source": [
    ">> 양방향 암호화 : 대칭형 암호화, 암호화된 문자열을 복호화 할 수 있음, 키(열쇠)라는 것이 사용됨, 암호를 복호화하려면 암호화할 때 사용한 키와 같은 키를 사용해야함<br><br>\n",
    ">>> crypto.createCipher(알고리즘, 키) : 암호화 알고리즘과 키를 넣어줌<br><br>\n",
    ">>> cipher.update(문자열, 인코딩, 출력 인코딩) : 암호화할 대상과 대상의 인코딩, 출력 결과물의 인코딩을 넣어줌. 보통 문자열은 utf-8 인코딩, 암호화는 base64를 많이 사용함<br><br>\n",
    ">>> cihper.final(출력 인코딩) : 출력 결과물의 인코딩을 넣어주면 암호화가 완료<br><br>\n",
    ">>> crypto.createDecipher(알고리즘, 키) : 복호화할 때 사용<br><br>\n",
    ">>> decipher.update(문자열, 인코딩, 출력 인코딩) : 암호화된 문장, 그 문장의 인코딩, 복호화할 인코딩을 넣어줌<br><br>\n",
    ">>> decipher.final(출력 인코딩) : 복호화 결과물의 인코딩을 넣어줌"
   ]
  },
  {
   "cell_type": "markdown",
   "metadata": {},
   "source": [
    "> util : 각종 편의 기능을 모아둔 모듈<br><br>\n",
    ">> util.deprecate : 함수가 deprecated 처리되었음을 알려줌, 함수가 조만간 사라지거나 변경될 때 알려줄 수 있어 유용함<br><br>\n",
    ">> util.promisify : 콜백 패턴을 프로미스 패턴으로 바꿔줌, 바꿀 함수를 인자로 제공하면 됨. async/await 패턴까지 사용할 수 있어 좋음<br><br>"
   ]
  },
  {
   "cell_type": "markdown",
   "metadata": {},
   "source": [
    "# 3.6 파일 시스템 접근하기\n",
    "> fs : fs 모듈은 파일 시스템에 접근하는 모듈, 파일을 생성하거나 삭제,읽거나,쓸 수 있음, 폴더도 가능"
   ]
  },
  {
   "cell_type": "markdown",
   "metadata": {},
   "source": [
    "> 동기 메서드와 비동기 메서드\n",
    ">> setTimeout 같은 타이머와 process.nextTick 외에도 노드는 대부분 메서드를 비동기 방식으로 처리함 <br><br>\n",
    ">> 하지만 몇몇 메서드는 동기방식으로 사용할 수 있음, 특히 fs 모듈이 그러한 메서드를 많이 갖고 있음<br><br>\n",
    ">>> 비동기와 비동기 : 함수가 바로 return 되는지 여부<br><br>\n",
    ">>> 블로킹과 논블로킹 : 백그라운드 작업 완료 여부"
   ]
  },
  {
   "cell_type": "markdown",
   "metadata": {},
   "source": [
    "> 버퍼와 스트림 이해하기\n",
    ">> Buffer 객체는 여러가지 메서드를 제공함\n",
    ">>> from(문자열) : 문자열을 버퍼로 바꿀 수 있음, length 속성은 버퍼의 크기를 알려줌, byte 단위<br><br>\n",
    ">>> toString(버퍼) : 버퍼를 다시 문자열로 바꿀 수 있음, base64나 hex를 인자로 넣으면 해당 인코딩으로도 변환할 수 있음<br><br>\n",
    ">>> concat(배열) : 배열 안에 든 버퍼들을 하나로 합침<br><br>\n",
    ">>> alloc(바이트) : 빈 버퍼를 생성함, 바이트를 인자로 지정해주면 해당 크기의 버퍼가 생성됨"
   ]
  },
  {
   "cell_type": "markdown",
   "metadata": {},
   "source": [
    "> 버퍼의 메모리 이슈(100MB가 필요하면 100MB를 만들고 시작함) 및 속도 이슈(모든 내용을 버퍼에 다 쓴 후에 다음 동작으로 넘어감) 때문에 스트림이 등장하게 되었음<br>\n",
    ">> 스트림은 조금씩 나눠서 전달이 됨"
   ]
  },
  {
   "cell_type": "markdown",
   "metadata": {},
   "source": [
    "> fs의 다른 ..명령어들..<br>\n",
    ">> fs.readdir(경로, 콜백) : 폴더 안의 내용물을 확인할 수 있음, 배열 안에 내부 파일과 폴더명이 나옴<br><br>\n",
    ">> fs.unlink(경로, 콜백) : 파일을 지울 수 있음, 파일이 없다면 에러가 발생하므로 먼저 파일이 있는지 꼭 확인해야함<br><br>\n",
    ">> fs.rmdir(경로, 콜백) : 폴더를 지울 수 있음, 폴더 안에 파일이 있으면 에러가 발생하므로 먼저 파일을 지워야함"
   ]
  },
  {
   "cell_type": "markdown",
   "metadata": {},
   "source": [
    "> 이벤트를 직접 다루기\n",
    ">> events 모듈 사용 :\n",
    ">>> on(이벤트명, 콜백) : 이벤트 이름과 이벤트 발생 시의 콜백을 연결 -> 이벤트 리스닝<br><br>\n",
    ">>> addListener(이벤트명, 콜백) : on과 기능이 같음<br><br>\n",
    ">>> emit(이벤트명) : 인벤트를 호출하는 메서드. 이벤트 이름을 인자로 넣어주면 미리 등록했던 이벤트 콜백이 실행됨<br><br>\n",
    ">>> once(이벤트명, 콜백) : 한번만 실행되는 이벤트, 2번 연속 호출해도 1번만 실행됨<br><br>\n",
    ">>> removeAllListeners(이벤트명) : 이벤트에 연결된 모든 이벤트 리스너를 제거<br><br>\n",
    ">>> removeListener(이벤트명, 리스너) : 이벤트에 연결된 리스너를 하나씩 제거<br><br>\n",
    ">>> off(이벤트명, 콜백) : 노드 10 버전에서 추가된 메서드, removeListener와 같은 기능removeListener\n",
    ">>> listenerCount(이벤트명) : 현재 리스너가 몇 개 연결되어 있는지 확인"
   ]
  },
  {
   "cell_type": "markdown",
   "metadata": {},
   "source": [
    "> 예외 처리하기\n",
    ">> try catch"
   ]
  }
 ],
 "metadata": {
  "kernelspec": {
   "display_name": "Python 3.10.1 64-bit",
   "language": "python",
   "name": "python3"
  },
  "language_info": {
   "codemirror_mode": {
    "name": "ipython",
    "version": 3
   },
   "file_extension": ".py",
   "mimetype": "text/x-python",
   "name": "python",
   "nbconvert_exporter": "python",
   "pygments_lexer": "ipython3",
   "version": "3.10.1"
  },
  "orig_nbformat": 4,
  "vscode": {
   "interpreter": {
    "hash": "d99a3f7b344b3c3107482760db15f42178bfad658d282ab0a919b76809e13cb5"
   }
  }
 },
 "nbformat": 4,
 "nbformat_minor": 2
}
