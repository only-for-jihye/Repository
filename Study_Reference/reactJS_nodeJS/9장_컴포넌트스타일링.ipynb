{
 "cells": [
  {
   "cell_type": "markdown",
   "metadata": {},
   "source": [
    "# 9장. 컴포넌트 스타일링"
   ]
  },
  {
   "cell_type": "markdown",
   "metadata": {},
   "source": [
    "## CSS Module\n",
    "> 모듈화된 CSS로 CSS 클래스를 만들면 자동으로 고유한 클레스네임을 생성하여 스코프를 지역적으로 제한하는 방식"
   ]
  },
  {
   "cell_type": "markdown",
   "metadata": {},
   "source": [
    "## Saas\n",
    "> 자주 사용하는 CSS 전처리기 중 하나이며, 확장된 CSS 문법을 사용하여 CSS 코드를 더욱 쉽게 작성하는 방식, 추가로 이를 CSS Module처럼 사용하는 방법도 있음"
   ]
  },
  {
   "cell_type": "markdown",
   "metadata": {},
   "source": [
    "## styled-components\n",
    "> 요즘 인기 있는 컴포넌트 스타일 방식으로, JS 코드 내부에서 스타일을 정의함"
   ]
  },
  {
   "cell_type": "markdown",
   "metadata": {},
   "source": [
    "### CSS Module 사용하기 -> Sass 사용하기 -> Sass 활용법 알아보기 -> styled-components 사용하기"
   ]
  },
  {
   "cell_type": "markdown",
   "metadata": {},
   "source": [
    "### CSS Moudle 사용하기\n",
    "\n",
    "$ create-react-app styling-react\n",
    "\n",
    "$ yarn eject\n",
    "> 책의 version이 예전 버전이라 yarn eject를 실행하라고 했지만, 현재 기준 설치 version에서는 별도로 yarn eject를 하지 않고 Sass와 Css Module을 사용할 수 있음"
   ]
  },
  {
   "cell_type": "markdown",
   "metadata": {},
   "source": [
    "> create-react-app V2 Release에서는 css 모듈을 사용하려면, 파일명에 '파일이름.module.css'로 지정하면 바로 사용 가능"
   ]
  },
  {
   "cell_type": "markdown",
   "metadata": {},
   "source": [
    "<img src=./cssmodule.png>"
   ]
  },
  {
   "cell_type": "code",
   "execution_count": null,
   "metadata": {
    "vscode": {
     "languageId": "javascript"
    }
   },
   "outputs": [],
   "source": [
    "import styles from './App.module.css';\n",
    "\n",
    "console.log(styles);\n",
    "\n",
    "function App() {\n",
    "  return (\n",
    "    <div className={[styles.box, styles.blue].join(' ')}>\n",
    "    </div>\n",
    "  );\n",
    "}\n",
    "\n",
    "export default App;\n"
   ]
  },
  {
   "cell_type": "markdown",
   "metadata": {},
   "source": [
    "* classnames 라이브러리 사용하기\n",
    "    - yarn add classnames"
   ]
  },
  {
   "cell_type": "code",
   "execution_count": null,
   "metadata": {
    "vscode": {
     "languageId": "javascript"
    }
   },
   "outputs": [],
   "source": [
    "import styles from './App.module.css';\n",
    "import classNames from 'classnames';\n",
    "console.log(styles);\n",
    "\n",
    "function App() {\n",
    "  return (\n",
    "    <div className={classNames(styles.box, styles.blue)}>\n",
    "    </div>\n",
    "  );\n",
    "}\n",
    "\n",
    "export default App;"
   ]
  },
  {
   "cell_type": "markdown",
   "metadata": {},
   "source": [
    "* classnames의 bind 기능 사용하면 styles. 생략 가능"
   ]
  },
  {
   "cell_type": "code",
   "execution_count": null,
   "metadata": {
    "vscode": {
     "languageId": "javascript"
    }
   },
   "outputs": [],
   "source": [
    "import styles from './App.module.css';\n",
    "import classNames from 'classnames/bind';\n",
    "\n",
    "console.log(styles);\n",
    "\n",
    "const cx = classNames.bind(styles);\n",
    "\n",
    "function App() {\n",
    "  return (\n",
    "    // <div className={[styles.box, styles.blue].join(' ')}>\n",
    "    <div className={cx('box', 'blue')}>\n",
    "    </div>\n",
    "  );\n",
    "}\n",
    "\n",
    "export default App;"
   ]
  },
  {
   "cell_type": "markdown",
   "metadata": {},
   "source": [
    "> classNames는 여러 가지 형식으로 사용할 수 있기 때문에 편하다. <br>\n",
    "> 예제에서는 클래스 이름을 여러 파라미터로 그냥 나열하기만 했는데, 이를 객체 형식이나 배열 형식 또는 혼용해서 전달할 수도 있음."
   ]
  },
  {
   "cell_type": "code",
   "execution_count": null,
   "metadata": {
    "vscode": {
     "languageId": "javascript"
    }
   },
   "outputs": [],
   "source": [
    "// 여러 형식으로 사용하는 예제\n",
    "classNames('foo', 'bar'); // => 'foo bar'\n",
    "classNames('foo', { bar: true }); // 'foo bar'\n",
    "classNames({ 'foo-bar' : true}); // 'foo bar'\n",
    "classNames({ 'foo-bar' : false}); // ''\n",
    "classNames({ foo: true }, { bar: true }); // 'foo bar'\n",
    "// ...~"
   ]
  },
  {
   "cell_type": "markdown",
   "metadata": {},
   "source": [
    "* 조건부 스타일링"
   ]
  },
  {
   "cell_type": "code",
   "execution_count": null,
   "metadata": {
    "vscode": {
     "languageId": "javascript"
    }
   },
   "outputs": [],
   "source": [
    "import styles from './App.module.css';\n",
    "import classNames from 'classnames/bind';\n",
    "\n",
    "const cx = classNames.bind(styles);\n",
    "\n",
    "const isBlue = true; //false;\n",
    "\n",
    "function App() {\n",
    "  return (\n",
    "    <div className={cx('box', {\n",
    "      blue: isBlue\n",
    "    })}>\n",
    "    </div>\n",
    "  );\n",
    "}\n",
    "\n",
    "export default App;"
   ]
  },
  {
   "cell_type": "markdown",
   "metadata": {},
   "source": [
    "> CSS Module은 고유한 클래스네임을 만들어 스코르를 제한함 <br>\n",
    "> classnames 라이브러리를 사용하면 이를 더욱 편하게 지정할 수 있음 <br>\n",
    "> 작성은 쉽지만 프로젝트 코드가 복잡해질수록 가독성이 쉽게 떨어짐 <br>\n",
    ">> 이 결함을 Sass, LESS, Stylus 등 CSS 전처리기 도구를 사용하여 해결할 수 있음 "
   ]
  },
  {
   "cell_type": "markdown",
   "metadata": {},
   "source": []
  },
  {
   "cell_type": "markdown",
   "metadata": {},
   "source": []
  },
  {
   "cell_type": "markdown",
   "metadata": {},
   "source": [
    "### Sass 사용하기\n",
    "\n",
    "> Sass는 Syntactically awesome style sheets의 약어, 문법적으로 매우 멋진 스타일시트를 의미 <br>\n",
    "> Sass는 CSS에서 사용할 수 있는 문법을 확장하여 중복되는 코드를 줄여 더욱 보기 좋게 작성할 수 있음 <br>\n",
    "> Sass에 익숙하지 않다면 https://sass-guidelin.es/ko/ 를 참고"
   ]
  },
  {
   "cell_type": "markdown",
   "metadata": {},
   "source": [
    "리액트 프로젝트에 Sass를 사용하기 위해서는 두 가지 패키지를 설치해야 함\n",
    "\n",
    "$ yarn add node-sass sass-loader\n",
    "\n",
    "* sass-loader는 webpack에서 Sass 파일을 읽어옴\n",
    "* node-sass는 Sass로 작성된 코드들을 CSS로 변환함\n",
    "* sass-loader를 적용하려면, webpack 환경 설정에서 css-loader에 설정한 내용들을 동일하게 복사하고, 설정 아래쪽에 sass-loader 부분을 추가하면 됨\n",
    "\n",
    "> 하지만 V2에서는 yarn add node-sass만 설치하면 바로 사용 가능!!"
   ]
  },
  {
   "cell_type": "code",
   "execution_count": null,
   "metadata": {
    "vscode": {
     "languageId": "javascript"
    }
   },
   "outputs": [],
   "source": [
    "// 하나씩 설정하기\n",
    ".box:hover {\n",
    "    background: red;\n",
    "  }\n",
    "  \n",
    "  .box:active {\n",
    "    background: yellow;\n",
    "  }\n",
    "\n",
    "// 참조를 사용해서 한번에 작성하기\n",
    "  .box {\n",
    "    /* 스타일 설정 */\n",
    "    &:hover {\n",
    "      background: red;\n",
    "    }\n",
    "    &:active {\n",
    "      background: yellow;\n",
    "    }\n",
    "  }"
   ]
  },
  {
   "cell_type": "markdown",
   "metadata": {},
   "source": [
    "* Sass 적용해보기\n",
    "    - Saas를 사용하면 감싸인(nested) 구조로 코드를 보기 좋게 입력할 수 있음\n",
    "    - 코드를 감싸서 입력하면 DOM 트리 구조대로 클래스를 작성할 수 있음\n",
    "    - 특정 클래스가 특정 클래스 내부에 있을 때만 적용하기 때문에 가독성이 높고 편리함"
   ]
  },
  {
   "cell_type": "code",
   "execution_count": null,
   "metadata": {
    "vscode": {
     "languageId": "javascript"
    }
   },
   "outputs": [],
   "source": [
    "// App.scss\n",
    "\n",
    ".box {\n",
    "    display : inline-block;\n",
    "    width: 100px;\n",
    "    height: 100px;\n",
    "    border: 1px solid black;\n",
    "    position: fixed;\n",
    "    top: 50%;\n",
    "    left: 50%;\n",
    "    transform: translate(-50%, -50%);\n",
    "  \n",
    "    &.blue {\n",
    "      background: blue;\n",
    "    }\n",
    "    &:hover {\n",
    "      background: yellow;\n",
    "    }\n",
    "    &:active {\n",
    "      background: red;\n",
    "    }\n",
    "  }  "
   ]
  },
  {
   "cell_type": "code",
   "execution_count": null,
   "metadata": {
    "vscode": {
     "languageId": "javascript"
    }
   },
   "outputs": [],
   "source": [
    "// App.js\n",
    "\n",
    "//import styles from './App.module.css';\n",
    "import styles from './App.scss';\n",
    "import classNames from 'classnames/bind';\n",
    "\n",
    "const cx = classNames.bind(styles);\n",
    "\n",
    "const isBlue = true;\n",
    "\n",
    "function App() {\n",
    "  return (\n",
    "    <div className={cx('box', {\n",
    "      blue: isBlue\n",
    "    })}>\n",
    "      <div className={cx('box-inside')}/>\n",
    "    </div>\n",
    "  );\n",
    "}\n",
    "\n",
    "export default App;"
   ]
  },
  {
   "cell_type": "markdown",
   "metadata": {},
   "source": [
    "* box 내부에 box-inside 클래스를 가진 div요소를 만들었음\n",
    "* 이 box-inside 클래스가 box 내부에 있을 때만 작동하기를 원한다면, css로는 다음과 같이 작성해야 함"
   ]
  },
  {
   "cell_type": "code",
   "execution_count": null,
   "metadata": {
    "vscode": {
     "languageId": "javascript"
    }
   },
   "outputs": [],
   "source": [
    ".box .box-inside {\n",
    "    /* ... */\n",
    "}\n",
    "\n",
    "// Sass를 사용하면 다음과 같이 작성 가능\n",
    ".box {\n",
    "    .box-inside {\n",
    "        /* ... */\n",
    "    }\n",
    "}"
   ]
  },
  {
   "cell_type": "code",
   "execution_count": null,
   "metadata": {
    "vscode": {
     "languageId": "javascript"
    }
   },
   "outputs": [],
   "source": [
    "// App.scss\n",
    ".box {\n",
    "    display : inline-block;\n",
    "    width: 100px;\n",
    "    height: 100px;\n",
    "    border: 1px solid black;\n",
    "    position: fixed;\n",
    "    top: 50%;\n",
    "    left: 50%;\n",
    "    transform: translate(-50%, -50%);\n",
    "  \n",
    "    &.blue {\n",
    "      background: blue;\n",
    "    }\n",
    "  \n",
    "    &:hover {\n",
    "      background: yellow;\n",
    "    }\n",
    "  \n",
    "    &:active {\n",
    "      background: red;\n",
    "    }\n",
    "  \n",
    "    .box-inside {\n",
    "      background: black;\n",
    "      width: 50px;\n",
    "      height: 50px;\n",
    "    }\n",
    "  }  "
   ]
  },
  {
   "cell_type": "markdown",
   "metadata": {},
   "source": [
    "* Sass에서는 자주 사용하는 값을 변수에 넣을 수 있음"
   ]
  },
  {
   "cell_type": "code",
   "execution_count": null,
   "metadata": {
    "vscode": {
     "languageId": "javascript"
    }
   },
   "outputs": [],
   "source": [
    "// App.scss\n",
    "$size: 100px;\n",
    "\n",
    ".box {\n",
    "  display : inline-block;\n",
    "  width: $size;\n",
    "  height: $size;\n",
    "  /* ... */\n",
    "}"
   ]
  },
  {
   "cell_type": "markdown",
   "metadata": {},
   "source": [
    "* 믹스인 사용 : 자주 사용하는 값은 변수에 넣고, 자주 사용하는 구문은 믹스인으로 다시 이용할 수 있음\n",
    "* place-at-center라는 믹스인을 만들어서 요소를 화면 가운데 위치시키는 CSS 구문을 호출해보겠음"
   ]
  },
  {
   "cell_type": "code",
   "execution_count": null,
   "metadata": {
    "vscode": {
     "languageId": "javascript"
    }
   },
   "outputs": [],
   "source": [
    "// App.scss\n",
    "$size: 100px;\n",
    "\n",
    "@mixin place-at-center() {\n",
    "  top: 50%;\n",
    "  left: 50%;\n",
    "  transform: translate(-50%, -50%);\n",
    "}\n",
    "\n",
    ".box {\n",
    "  display : inline-block;\n",
    "  width: $size;\n",
    "  height: $size;\n",
    "  border: 1px solid black;\n",
    "  position: fixed;\n",
    "\n",
    "  @include place-at-center();\n",
    "\n",
    "  /* ... */\n",
    "}"
   ]
  },
  {
   "cell_type": "markdown",
   "metadata": {},
   "source": [
    "* 다른 개발자들이 만든 library를 사용할 수도 있음, 반응형 디자인을 돕는 믹스인 라이브러리 include-media도 있음"
   ]
  },
  {
   "cell_type": "markdown",
   "metadata": {},
   "source": [
    "> 변수와 믹스인은 여러 곳에서 재사용하기 위해서 만든 것인데, CSS Module을 적용한 상태이므로 변수들과 믹스인을 파일마다 공유하지 않음 <br>\n",
    "> 따라서 이를 전역적으로 사용할 수 있도록 스타일 디렉토리를 만들어 전역적으로 쓰는 코드는 따로 분리하고 <br>\n",
    "> 컴포넌트 스타일 파일에서 불러와 사용해보겠음 <br>\n",
    ">> 변수와 믹스인을 전역적으로 사용하기"
   ]
  },
  {
   "cell_type": "markdown",
   "metadata": {},
   "source": [
    "<img src='./scss.png'></img>"
   ]
  },
  {
   "cell_type": "markdown",
   "metadata": {},
   "source": [
    "> Sass 장점 중 하나는 스타일 관련 라이브러리를 쉽게 불러와 사용할 수 있다는 것 <br>\n",
    "> include-media 믹스인 라이브러리와 open-color 변수 세트 라이브러리를 사용하여 초록색 버튼을 만들어 보자 <br>\n",
    ">> include-media : 반응형 디자인을 도움 <br>\n",
    ">> open-color : 여러가지 색상이 들어있어 쉽게 고를 수 있음"
   ]
  },
  {
   "cell_type": "markdown",
   "metadata": {},
   "source": [
    "$ yarn add include-media open-color\n",
    "\n",
    "npm 또는 yarn으로 설치한 패키지 내부에 있는 파일을 불러올 때는 ~ 문자를 사용해서 node_modules에 접근할 수 있음"
   ]
  },
  {
   "cell_type": "code",
   "execution_count": null,
   "metadata": {
    "vscode": {
     "languageId": "javascript"
    }
   },
   "outputs": [],
   "source": [
    "// utils.scss\n",
    "@import '~open-color/open-color';\n",
    "@import '~include-media/dist/include-media';\n",
    "\n",
    "$breakpoints: ( /* 추후 반응형 디자인을 위한 코드를 작성할 때의 기준점 */\n",
    "    small: 376px,\n",
    "    medium: 768px,\n",
    "    large: 1024px,\n",
    "    huge: 1200px\n",
    ");\n",
    "\n",
    "$size: 100px;\n",
    "\n",
    "@mixin place-at-center() {\n",
    "    top: 50%;\n",
    "    left: 50%;\n",
    "    transform: translate(-50%, -50%);\n",
    "}"
   ]
  },
  {
   "cell_type": "code",
   "execution_count": null,
   "metadata": {
    "vscode": {
     "languageId": "javascript"
    }
   },
   "outputs": [],
   "source": [
    "// Button.js\n",
    "import React from 'react';\n",
    "import styles from './Button.scss';\n",
    "import classNames from 'classnames/bind';\n",
    "\n",
    "const cx = classNames.bind(styles);\n",
    "\n",
    "/*\n",
    "    rest는 나중에 이 컴포넌트가 받을 모든 props를 명시함\n",
    "    비구조화 할당 문법에서 ...foo 형식으로 입력하면 비구조화 할당을 할 때 따로 지정하지 않은 것들은 모두 foo 객체에 담김\n",
    "    JSX를 렌더링 하는 부분에 { ...rest }를 넣어준 의미는 객체 안에 있는 모든 값을 해당 DOM/컴포넌트의 props로 지정한다는 의미\n",
    "    예를 들어, rest 객체 안에 onClick과 style이 들어 있다면, <div onClick={onClick} style={style}>과 같은 형식으로 렌더링 됨\n",
    "    컴포넌트에 전달하는 props를 별도 작업 없이 그대로 DOM에 전달할 수 있음\n",
    "*/\n",
    "const Button = ({children, ...rest}) => { \n",
    "    return (\n",
    "        <div className={cx('button')} {...rest}>\n",
    "            {children}\n",
    "        </div>\n",
    "    );\n",
    "};\n",
    "\n",
    "export default Button;"
   ]
  },
  {
   "cell_type": "code",
   "execution_count": null,
   "metadata": {
    "vscode": {
     "languageId": "javascript"
    }
   },
   "outputs": [],
   "source": [
    "// Button.scss\n",
    "@import '../../styles/utils.scss';\n",
    "\n",
    ".button {\n",
    "    background: $oc-green-7;\n",
    "    transition: all .2s ease-in;\n",
    "    display: inline-block;\n",
    "    padding-top: 2rem;\n",
    "    padding-bottom: 2rem;\n",
    "    text-align: center;\n",
    "    color: white;\n",
    "    position: fixed;\n",
    "    font-size: 2rem;\n",
    "    font-weight: 500;\n",
    "    border-radius: 4px;\n",
    "    cursor: pointer;\n",
    "\n",
    "    @include place-at-center();\n",
    "\n",
    "    width: 1200px;\n",
    "\n",
    "    // 반응형 디자인\n",
    "    @include media(\"<huge\") { // utils의 breakingpoint에서 지정한 값들을 참조\n",
    "        width: 1024px;\n",
    "    }\n",
    "    @include media(\"<large\") {\n",
    "        width: 768px;\n",
    "    }\n",
    "    @include media(\"<medium\") {\n",
    "        width: 90%;\n",
    "    }\n",
    "\n",
    "    // 마우스 상태에 따라 다른 효과 지정\n",
    "    &:hover {\n",
    "        background: $oc-green-6;\n",
    "    }\n",
    "    &:active {\n",
    "        margin-top: 3px;\n",
    "        background: $oc-green-8;\n",
    "    }\n",
    "}"
   ]
  },
  {
   "cell_type": "code",
   "execution_count": null,
   "metadata": {
    "vscode": {
     "languageId": "javascript"
    }
   },
   "outputs": [],
   "source": [
    "// index.js\n",
    "//import Button from '.Button';\n",
    "//export default Button;\n",
    "\n",
    "export { default } from './Button';"
   ]
  },
  {
   "cell_type": "markdown",
   "metadata": {},
   "source": [
    "<img src=./button.png>"
   ]
  },
  {
   "cell_type": "markdown",
   "metadata": {},
   "source": []
  },
  {
   "cell_type": "markdown",
   "metadata": {},
   "source": []
  },
  {
   "cell_type": "markdown",
   "metadata": {},
   "source": [
    "### styled-components\n",
    "> 자바스크립트 파일 안에 스타일을 선언하는 방식 => 'CSS in JS' <br>\n",
    "> 라이브러리가 정말 많음.. https://github.com/MicheleBertoli/css-in-js에서 확인"
   ]
  },
  {
   "cell_type": "markdown",
   "metadata": {},
   "source": [
    "라이브러리 중 개발자에게 가장 많이 사랑받는 styled-components에 대해 알아보자\n",
    "\n",
    "$ yarn add styled-components"
   ]
  },
  {
   "cell_type": "code",
   "execution_count": null,
   "metadata": {
    "vscode": {
     "languageId": "javascript"
    }
   },
   "outputs": [],
   "source": [
    "// StyledButton.js\n",
    "import styled from 'styled-components';\n",
    "\n",
    "const Wrapper = styled.div`\n",
    "    border: 1px solid black;\n",
    "    display: inline-block;\n",
    "    padding: 1rem;\n",
    "    border-radius: 3px;\n",
    "    &:hover {\n",
    "        background: black;\n",
    "        color: white;\n",
    "    }\n",
    "`;\n",
    "\n",
    "const StyledButton = ({children, ...rest}) => {\n",
    "    return (\n",
    "        <Wrapper {...rest}>\n",
    "            {children}\n",
    "        </Wrapper>\n",
    "    )\n",
    "}\n",
    "\n",
    "export default StyledButton;"
   ]
  },
  {
   "cell_type": "markdown",
   "metadata": {},
   "source": [
    "> styled `...` <br>\n",
    ">> ES6의 Tagged Template Literals 문법 <br>\n",
    ">> backquote(`) 사이에 ${자바스크립트 표현}이 들어가면 끊어서 함수 인자로 전달 <br>\n",
    ">> props에 접근하기 위해서 사용, props 값을 참조해야 할 때 함수 내부에 직접 입력해야 함 <br>\n",
    ">>  그런데, Tagged Tempplate Literals 문법을 사용하지 않으면 다음 함수가 문자열 자체로 들어감"
   ]
  },
  {
   "cell_type": "code",
   "execution_count": null,
   "metadata": {
    "vscode": {
     "languageId": "javascript"
    }
   },
   "outputs": [],
   "source": [
    "\"\n",
    "    border: 1px solid black;\n",
    "    display: inline-block;\n",
    "    padding: 1rem;\n",
    "    border-radius: 3px;\n",
    "    &:hover {\n",
    "        background: black;\n",
    "        color: white;\n",
    "    }\n",
    "\""
   ]
  },
  {
   "cell_type": "markdown",
   "metadata": {},
   "source": [
    "> styled-components의 최대 장점은 자바스크립트 내부에서 스타일을 정의하기 때문에 자바스크립트와 스타일 사이의 벽이 허물어져 동적 스타일링이 더욱 편해진다는 것"
   ]
  },
  {
   "cell_type": "markdown",
   "metadata": {},
   "source": [
    "* big이라는 props를 사용하여 버튼의 크기를 동적으로 변경하는 코드를 작성해보자"
   ]
  },
  {
   "cell_type": "code",
   "execution_count": null,
   "metadata": {
    "vscode": {
     "languageId": "javascript"
    }
   },
   "outputs": [],
   "source": [
    "// StyledButton.js\n",
    "import styled from 'styled-components';\n",
    "\n",
    "const Wrapper = styled.div`\n",
    "    border: 1px solid black;\n",
    "    display: inline-block;\n",
    "    padding: 1rem;\n",
    "    border-radius: 3px;\n",
    "\n",
    "    font-size: ${(props) => props.fontSize};\n",
    "    ${props => props.big && `\n",
    "        font-size: 2rem;\n",
    "        padding: 2rem;\n",
    "    `}\n",
    "\n",
    "    &:hover {\n",
    "        background: black;\n",
    "        color: white;\n",
    "    }\n",
    "`;\n",
    "\n",
    "const StyledButton = ({children, big, ...rest}) => {\n",
    "    return (\n",
    "        <Wrapper fontSize=\"1.25rem\" {...rest} big={big}>\n",
    "            {children}\n",
    "        </Wrapper>\n",
    "    )\n",
    "}\n",
    "\n",
    "export default StyledButton;"
   ]
  },
  {
   "cell_type": "code",
   "execution_count": null,
   "metadata": {
    "vscode": {
     "languageId": "javascript"
    }
   },
   "outputs": [],
   "source": [
    "${props => props.big && `\n",
    "        font-size: 2rem;\n",
    "        padding: 2rem;\n",
    "`}\n",
    "\n",
    "// 이 부분이 props를 참조하여 스타일링"
   ]
  },
  {
   "cell_type": "code",
   "execution_count": null,
   "metadata": {
    "vscode": {
     "languageId": "javascript"
    }
   },
   "outputs": [],
   "source": [
    "// App.js\n",
    "import React from 'react';\n",
    "import StyledButton from './components/StyledButton';\n",
    "\n",
    "function App() {\n",
    "  return (\n",
    "    <div>\n",
    "      <StyledButton big>버튼</StyledButton>\n",
    "    </div>\n",
    "  );\n",
    "}\n",
    "\n",
    "export default App;"
   ]
  },
  {
   "cell_type": "markdown",
   "metadata": {},
   "source": [
    "<img src=./bigbutton.png>"
   ]
  }
 ],
 "metadata": {
  "kernelspec": {
   "display_name": "Python 3.9.6 64-bit",
   "language": "python",
   "name": "python3"
  },
  "language_info": {
   "name": "python",
   "version": "3.9.6"
  },
  "orig_nbformat": 4,
  "vscode": {
   "interpreter": {
    "hash": "31f2aee4e71d21fbe5cf8b01ff0e069b9275f58929596ceb00d14d90e3e16cd6"
   }
  }
 },
 "nbformat": 4,
 "nbformat_minor": 2
}
