{
 "cells": [
  {
   "cell_type": "markdown",
   "metadata": {},
   "source": [
    "# Chapter2_데이터 다루기\n",
    "## 2-1. 훈련세트와 테스트세트\n",
    ">지도 학습 / 비지도 학습 <br>\n",
    ">모델을 훈련시키는 훈련 세트 <br>\n",
    ">모델을 평가하기 위한 테스트 세트 <br>"
   ]
  },
  {
   "cell_type": "markdown",
   "metadata": {},
   "source": [
    "* 1장 K-최근접 이웃 알고리즘의 한계 : <br>\n",
    "  K-최근접 이웃 알고리즘은 분류에 따른 알고리즘 <br>\n",
    "    즉, 비슷한 특성을 가진 데이터는 비슷한 범주에 속하는 경향이 있다는 가정 하에 사용 <br>\n",
    "    예를 들어 1장의 예제에서 빙어,도미 외의 생선 종류가 1개가 추가되었을 때, 새로 추가된 생선이 도미와 크기/무게가 근접하다고 하면 다른 종류의 생선이어도 도미로만 출력됨 <br>\n",
    "    분류하고자 하는 데이터가 많아질 경우, 분류를 위한 데이터를 입력해야 하며 적절한 데이터의 선택이 중요함 (적절한 K 선택의 중요성) <br>"
   ]
  },
  {
   "cell_type": "markdown",
   "metadata": {},
   "source": [
    "머신러닝 알고리즘의 분류\n",
    "1. 지도 학습 (Supervised learning) : 훈련을 위한 [데이터 - 입력(input)]와 [정답 - 타깃(target)]이 필요함 <br>\n",
    "    > 훈련 데이터(training data) = 입력 + 타깃<br>\n",
    "    > 특성(feature) = 1장 예제에 사용된 길이,무게 <br>\n",
    "    > 입력(input) = 길이,무게 <br>\n",
    "    > 타깃(target) = 정답(1,0~) <br>\n",
    "    > 정답이 있기 때문에 알고리즘이 정답을 맞히는 것을 학습함 (A? or B?) <br>\n",
    "\n",
    "\n",
    "2. 비지도 학습 (Unsupervised learning) : 정답(target) 없이 \"입력(input)\" 데이터만 사용\n",
    "    > 데이터를 잘 파악하거나 변형하는데 도움을 줌 (6장에서 배움)"
   ]
  },
  {
   "cell_type": "markdown",
   "metadata": {},
   "source": [
    "훈련 세트와 테스트 세트\n",
    "1. 훈련 세트 : 훈련에 사용되는 데이터\n",
    " > 테스트 세트를 제외한 모든 데이터를 사용\n",
    "2. 테스트 세트 : 평가에 사용되는 데이터\n",
    " > 전체 데이터에서 20~30%를 테스트 데이터로 사용하기도 함\n",
    "\n",
    "> 머신러닝을 평가하기 위해서는 테스트 세트와 훈련 세트가 따로 준비되어야 한다. <br>\n",
    "> 훈련에 사용한 데이터를 다시 평가에 사용한다면 무슨 의미가 있겠나..."
   ]
  },
  {
   "cell_type": "code",
   "execution_count": 8,
   "metadata": {},
   "outputs": [
    {
     "name": "stdout",
     "output_type": "stream",
     "text": [
      "[29.0, 430.0]\n"
     ]
    }
   ],
   "source": [
    "fish_length = [25.4, 26.3, 26.5, 29.0, 29.0, 29.7, 29.7, 30.0, 30.0, 30.7, 31.0, 31.0, \n",
    "                31.5, 32.0, 32.0, 32.0, 33.0, 33.0, 33.5, 33.5, 34.0, 34.0, 34.5, 35.0, \n",
    "                35.0, 35.0, 35.0, 36.0, 36.0, 37.0, 38.5, 38.5, 39.5, 41.0, 41.0, 9.8, \n",
    "                10.5, 10.6, 11.0, 11.2, 11.3, 11.8, 11.8, 12.0, 12.2, 12.4, 13.0, 14.3, 15.0]\n",
    "fish_weight = [242.0, 290.0, 340.0, 363.0, 430.0, 450.0, 500.0, 390.0, 450.0, 500.0, 475.0, 500.0, \n",
    "                500.0, 340.0, 600.0, 600.0, 700.0, 700.0, 610.0, 650.0, 575.0, 685.0, 620.0, 680.0, \n",
    "                700.0, 725.0, 720.0, 714.0, 850.0, 1000.0, 920.0, 955.0, 925.0, 975.0, 950.0, 6.7, \n",
    "                7.5, 7.0, 9.7, 9.8, 8.7, 10.0, 9.9, 9.8, 12.2, 13.4, 12.2, 19.7, 19.9]\n",
    "\n",
    "fish_data = [[l, w] for l, w in zip(fish_length, fish_weight)]\n",
    "fish_target = [1]*35 + [0]*14\n",
    "\n",
    "# 하나의 생선 데이터 = 하나의 샘플(sample)\n",
    "# 특성(feature)은 length, weight 2개\n",
    "# 처음 35개의 샘플은 훈련 세트로 사용\n",
    "# 나머지 14개의 샘플은 테스트 세트로 사용\n",
    "\n",
    "\n",
    "from sklearn.neighbors import KNeighborsClassifier\n",
    "kn = KNeighborsClassifier()\n",
    "\n",
    "#처음부터 35개까지 선택을 위한 index 지정\n",
    "print(fish_data[4])\n",
    "\n",
    "# 배열의 index는 0부터 시작"
   ]
  },
  {
   "cell_type": "code",
   "execution_count": 9,
   "metadata": {},
   "outputs": [
    {
     "name": "stdout",
     "output_type": "stream",
     "text": [
      "[[25.4, 242.0], [26.3, 290.0], [26.5, 340.0], [29.0, 363.0], [29.0, 430.0]]\n"
     ]
    }
   ],
   "source": [
    "# python list 슬라이싱(slicing)\n",
    "\n",
    "print(fish_data[0:5]) # 0 ~ 4"
   ]
  },
  {
   "cell_type": "code",
   "execution_count": 10,
   "metadata": {},
   "outputs": [
    {
     "name": "stdout",
     "output_type": "stream",
     "text": [
      "[[25.4, 242.0], [26.3, 290.0], [26.5, 340.0], [29.0, 363.0], [29.0, 430.0]]\n"
     ]
    }
   ],
   "source": [
    "# 0 생략 가능\n",
    "print(fish_data[:5])"
   ]
  },
  {
   "cell_type": "code",
   "execution_count": 11,
   "metadata": {},
   "outputs": [
    {
     "name": "stdout",
     "output_type": "stream",
     "text": [
      "[[12.2, 12.2], [12.4, 13.4], [13.0, 12.2], [14.3, 19.7], [15.0, 19.9]]\n"
     ]
    }
   ],
   "source": [
    "# 마지막 생략 가능\n",
    "print(fish_data[44:])"
   ]
  },
  {
   "cell_type": "code",
   "execution_count": 14,
   "metadata": {},
   "outputs": [
    {
     "data": {
      "text/plain": [
       "0.0"
      ]
     },
     "execution_count": 14,
     "metadata": {},
     "output_type": "execute_result"
    }
   ],
   "source": [
    "# 훈련 세트, 입력값 중 0부터 34번째 index까지 사용 (35개)\n",
    "train_input = fish_data[:35]\n",
    "\n",
    "# 훈련세트, 타깃값 중 0부터 34번째 index까지 사용 (35개)\n",
    "train_target = fish_target[:35]\n",
    "\n",
    "\n",
    "# 테스트 세트, 입력값 중 35번째부터 마지막 인덱스까지 사용 (14개)\n",
    "test_input = fish_data[35:]\n",
    "\n",
    "# 테스트 세트, 입력값 중 35번째부터 마지막 인덱스까지 사용 (14개)\n",
    "test_target = fish_target[35:]\n",
    "\n",
    "\n",
    "# 훈련 세트, fit() 모델 훈련\n",
    "kn = kn.fit(train_input, train_target)\n",
    "\n",
    "# 테스트 세트 score() 평가\n",
    "kn.score(test_input, test_target) # 0.0 => 정확도가 0.."
   ]
  },
  {
   "cell_type": "markdown",
   "metadata": {},
   "source": [
    "정확도가 0.0 ?\n",
    " > 이유 : 도미를 훈련 세트로, 빙어를 테스트 세트로 나누었기 때문... 빙어는 모델 훈련을 하지 않았다.\n",
    "\n",
    "개선 ? <br>\n",
    " > 도미와 빙어가 적절하게 섞여야지... <br>\n",
    " > 앞에 35개는 도미, 뒤에 14개는 빙어였으니... 잘못된 것\n",
    "\n",
    "이런 것을 '샘플링 편향(Sampling Bias)'라고 부름"
   ]
  },
  {
   "cell_type": "markdown",
   "metadata": {},
   "source": [
    "#### 넘파이(numpy)에 대해 알아보자\n",
    "> Python의 대표적인 배열(array) 라이브러리 - 고차원 배열 도구\n",
    "\n",
    "> seed() : 난수를 생성하기 위한 정수 초깃값을 지정, 초깃값이 같으면 동일한 난수를 뽑을 수 있음, 랜덤 함수의 결과를 동일하게 재현하고자 할 때 사용 \n",
    "\n",
    "> arange() : 일정한 간격의 정수 또는 실수 배열을 만듦, 기본 간격은 1 <br>\n",
    "        > 매개변수가 하나이면 종료 숫자를 의미 ex) print(np.arange(3)) : [0, 1, 2]<br>\n",
    "        > 매개변수가 2개이면 시작, 종료 의미 ex) print(np.arange(1, 3)) : [1, 2]<br>\n",
    "        > 매개변수가 3개이면 마지막 변수는 간격 ex) print(np.arange(1, 3, 0.2)) : [1. , 1.2, ... 2.6, 2.8]<br>\n",
    "\n",
    "> shuffle()은 주어진 배열을 랜덤하게 섞기, 다차원 배열일 경우 첫 번째 축(행)에 대해서만 섞음"
   ]
  },
  {
   "cell_type": "code",
   "execution_count": 18,
   "metadata": {},
   "outputs": [
    {
     "name": "stdout",
     "output_type": "stream",
     "text": [
      "[[  25.4  242. ]\n",
      " [  26.3  290. ]\n",
      " [  26.5  340. ]\n",
      " [  29.   363. ]\n",
      " [  29.   430. ]\n",
      " [  29.7  450. ]\n",
      " [  29.7  500. ]\n",
      " [  30.   390. ]\n",
      " [  30.   450. ]\n",
      " [  30.7  500. ]\n",
      " [  31.   475. ]\n",
      " [  31.   500. ]\n",
      " [  31.5  500. ]\n",
      " [  32.   340. ]\n",
      " [  32.   600. ]\n",
      " [  32.   600. ]\n",
      " [  33.   700. ]\n",
      " [  33.   700. ]\n",
      " [  33.5  610. ]\n",
      " [  33.5  650. ]\n",
      " [  34.   575. ]\n",
      " [  34.   685. ]\n",
      " [  34.5  620. ]\n",
      " [  35.   680. ]\n",
      " [  35.   700. ]\n",
      " [  35.   725. ]\n",
      " [  35.   720. ]\n",
      " [  36.   714. ]\n",
      " [  36.   850. ]\n",
      " [  37.  1000. ]\n",
      " [  38.5  920. ]\n",
      " [  38.5  955. ]\n",
      " [  39.5  925. ]\n",
      " [  41.   975. ]\n",
      " [  41.   950. ]\n",
      " [   9.8    6.7]\n",
      " [  10.5    7.5]\n",
      " [  10.6    7. ]\n",
      " [  11.     9.7]\n",
      " [  11.2    9.8]\n",
      " [  11.3    8.7]\n",
      " [  11.8   10. ]\n",
      " [  11.8    9.9]\n",
      " [  12.     9.8]\n",
      " [  12.2   12.2]\n",
      " [  12.4   13.4]\n",
      " [  13.    12.2]\n",
      " [  14.3   19.7]\n",
      " [  15.    19.9]]\n"
     ]
    }
   ],
   "source": [
    "# fish_data, target numpy로 만듦\n",
    "import numpy as np\n",
    "\n",
    "input_arr = np.array(fish_data)\n",
    "target_arr = np.array(fish_target)\n",
    "\n",
    "print(input_arr)"
   ]
  },
  {
   "cell_type": "code",
   "execution_count": 19,
   "metadata": {},
   "outputs": [
    {
     "name": "stdout",
     "output_type": "stream",
     "text": [
      "(49, 2)\n"
     ]
    }
   ],
   "source": [
    "# 배열의 크기를 알려주는 shape\n",
    "\n",
    "print(input_arr.shape)\n",
    "# 49개의 sample, 2개의 feature"
   ]
  },
  {
   "cell_type": "code",
   "execution_count": 36,
   "metadata": {},
   "outputs": [
    {
     "name": "stdout",
     "output_type": "stream",
     "text": [
      "[13 45 47 44 17 27 26 25 31 19 12  4 34  8  3  6 40 41 46 15  9 16 24 33\n",
      " 30  0 43 32  5 29 11 36  1 21  2 37 35 23 39 10 22 18 48 20  7 42 14 28\n",
      " 38]\n"
     ]
    }
   ],
   "source": [
    "# input_arr과 target_arr 의 같은 위치는 같이 선택되게 하여 무작위로 샘플링\n",
    "\n",
    "# numpy arange() 사용하여 index를 만들고 랜덤하게 섞자\n",
    "\n",
    "#np.random.seed() # 숫자 지정 안하면 계속 값이 바뀜\n",
    "np.random.seed(42) # 일정한 결과를 얻기 위해 초기 랜덤 seed를 지정 # 42로 지정한 이유는 딱히 없는 듯..\n",
    "index = np.arange(49) # index 0 ~ 48 생성\n",
    "np.random.shuffle(index) # 섞기\n",
    "\n",
    "print(index)"
   ]
  },
  {
   "cell_type": "code",
   "execution_count": 41,
   "metadata": {},
   "outputs": [
    {
     "name": "stdout",
     "output_type": "stream",
     "text": [
      "[[ 26.3 290. ]\n",
      " [ 29.  363. ]]\n",
      "[[ 26.3 290. ]\n",
      " [ 30.  390. ]\n",
      " [ 31.  475. ]]\n",
      "[[ 32. 340.]]\n"
     ]
    }
   ],
   "source": [
    "# 배열 인덱싱 (array indexing)\n",
    "# 1개의 인덱스가 아닌, 여러 개의 인덱스로 한번에 여러 원소를 선택할 수 있음\n",
    "\n",
    "print(input_arr[[1,3]])\n",
    "print(input_arr[[1,7,10]])\n",
    "\n",
    "print(input_arr[[13]])"
   ]
  },
  {
   "cell_type": "code",
   "execution_count": 42,
   "metadata": {},
   "outputs": [
    {
     "name": "stdout",
     "output_type": "stream",
     "text": [
      "[ 32. 340.] [ 32. 340.]\n"
     ]
    }
   ],
   "source": [
    "# numpy 배열을 index로 전달\n",
    "\n",
    "train_input = input_arr[index[:35]]\n",
    "train_target = target_arr[index[:35]]\n",
    "\n",
    "print(input_arr[13], train_input[0])\n",
    "# index가 생성되었을 때, 첫번째 값은 13\n",
    "# train_input의 첫번째 원소는 input_arr의 14번째 원소가 들어가 있음\n",
    "# input_arr[13]은 input_arr의 14번째 원소 (위치 13)\n",
    "# index 생성 시, 첫번째 index 값은 13"
   ]
  },
  {
   "cell_type": "code",
   "execution_count": 62,
   "metadata": {},
   "outputs": [
    {
     "data": {
      "image/png": "[encoded data removed]",
      "text/plain": [
       "<Figure size 432x288 with 1 Axes>"
      ]
     },
     "metadata": {
      "needs_background": "light"
     },
     "output_type": "display_data"
    }
   ],
   "source": [
    "test_input = input_arr[index[35:]]\n",
    "test_target = target_arr[index[35:]]\n",
    "\n",
    "# print(train_input[:]) # 전체 배열 출력\n",
    "# print(train_input[:,0]) # 전체 배열 중 첫번째 원소\n",
    "# print(train_input[:,1]) # 전체 배열 중 두번째 원소\n",
    "\n",
    "import matplotlib.pyplot as plt\n",
    "plt.scatter(train_input[:,0], train_input[:,1]) # 행과 열을 ','로 구분, 생략 시 모두 선택\n",
    "plt.scatter(test_input[:,0], test_input[:,1])\n",
    "plt.xlabel('length')\n",
    "plt.ylabel('weight')\n",
    "plt.show()\n",
    "\n",
    "# plt.scatter(x, y, s=area, c=colors, alpha=0.5, cmap='Spectral')\n",
    "# 파란색 = train\n",
    "# 주황색 = test\n"
   ]
  },
  {
   "cell_type": "code",
   "execution_count": 63,
   "metadata": {},
   "outputs": [
    {
     "data": {
      "text/plain": [
       "1.0"
      ]
     },
     "execution_count": 63,
     "metadata": {},
     "output_type": "execute_result"
    }
   ],
   "source": [
    "kn = kn.fit(train_input, train_target)\n",
    "\n",
    "kn.score(test_input, test_target)"
   ]
  },
  {
   "cell_type": "code",
   "execution_count": 64,
   "metadata": {},
   "outputs": [
    {
     "data": {
      "text/plain": [
       "array([0, 0, 1, 0, 1, 1, 1, 0, 1, 1, 0, 1, 1, 0])"
      ]
     },
     "execution_count": 64,
     "metadata": {},
     "output_type": "execute_result"
    }
   ],
   "source": [
    "kn.predict(test_input)"
   ]
  },
  {
   "cell_type": "code",
   "execution_count": 65,
   "metadata": {},
   "outputs": [
    {
     "data": {
      "text/plain": [
       "array([0, 0, 1, 0, 1, 1, 1, 0, 1, 1, 0, 1, 1, 0])"
      ]
     },
     "execution_count": 65,
     "metadata": {},
     "output_type": "execute_result"
    }
   ],
   "source": [
    "test_target # 코랩의 마지막 셀은 print 사용하지 않아도 자동 출력"
   ]
  }
 ],
 "metadata": {
  "interpreter": {
   "hash": "62b8e38797574a9de3c3f9bc79729bb88e3b9c6776c95587f79be5c56a9bdc90"
  },
  "kernelspec": {
   "display_name": "Python 3.10.1 64-bit",
   "language": "python",
   "name": "python3"
  },
  "language_info": {
   "codemirror_mode": {
    "name": "ipython",
    "version": 3
   },
   "file_extension": ".py",
   "mimetype": "text/x-python",
   "name": "python",
   "nbconvert_exporter": "python",
   "pygments_lexer": "ipython3",
   "version": "3.10.1"
  },
  "orig_nbformat": 4
 },
 "nbformat": 4,
 "nbformat_minor": 2
}
