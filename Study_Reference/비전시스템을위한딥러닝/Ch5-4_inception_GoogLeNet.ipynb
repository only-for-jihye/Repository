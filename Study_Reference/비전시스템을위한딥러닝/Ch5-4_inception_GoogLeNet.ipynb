{
 "cells": [
  {
   "cell_type": "markdown",
   "metadata": {},
   "source": [
    "### 5.5 인셉션과 GoogLeNet"
   ]
  },
  {
   "cell_type": "markdown",
   "metadata": {},
   "source": [
    "##### 신경망 내부적으로 계산 자원의 효율을 높여 신경망의 층수를 늘림\n",
    "##### 22개의 층으로 구성되어 VGGNet보다는 층수가 많지만... 파라미터는 VGGNet의 1/12에 불과\n",
    "###### VGGNet : 1억 3,800만 개  /  GoogLeNet : 1,300만 개\n",
    "##### 인셉션 모듈(inception module)이라는 새로운 요소를 도입"
   ]
  },
  {
   "cell_type": "markdown",
   "metadata": {},
   "source": [
    "- LeNet, AlexNet, VGGNet은 합성곱층과 풀링층을 번갈아 쌓아 올림\n",
    "- 인셉션 구조는 합성층과 풀링층으로 인셉션 모듈을 구성 후, 인셉션 모듈과 풀링층을 쌓아 특징 추출기를 구성"
   ]
  },
  {
   "cell_type": "markdown",
   "metadata": {},
   "source": [
    "> 그림은 Page 269~277 참고"
   ]
  },
  {
   "cell_type": "code",
   "execution_count": 9,
   "metadata": {},
   "outputs": [
    {
     "ename": "MemoryError",
     "evalue": "Unable to allocate 7.01 GiB for an array with shape (50000, 224, 224, 3) and data type uint8",
     "output_type": "error",
     "traceback": [
      "\u001b[1;31m---------------------------------------------------------------------------\u001b[0m",
      "\u001b[1;31mMemoryError\u001b[0m                               Traceback (most recent call last)",
      "\u001b[1;32md:\\ivyStudy\\ivystudy\\funjongsoo\\비전시스템을위한딥러닝\\Ch5-4_inception_GoogLeNet.ipynb Cell 5'\u001b[0m in \u001b[0;36m<cell line: 44>\u001b[1;34m()\u001b[0m\n\u001b[0;32m     <a href='vscode-notebook-cell:/d%3A/ivyStudy/ivystudy/funjongsoo/%EB%B9%84%EC%A0%84%EC%8B%9C%EC%8A%A4%ED%85%9C%EC%9D%84%EC%9C%84%ED%95%9C%EB%94%A5%EB%9F%AC%EB%8B%9D/Ch5-4_inception_GoogLeNet.ipynb#ch0000005?line=39'>40</a>\u001b[0m     X_valid \u001b[39m=\u001b[39m X_valid \u001b[39m/\u001b[39m \u001b[39m255.0\u001b[39m\n\u001b[0;32m     <a href='vscode-notebook-cell:/d%3A/ivyStudy/ivystudy/funjongsoo/%EB%B9%84%EC%A0%84%EC%8B%9C%EC%8A%A4%ED%85%9C%EC%9D%84%EC%9C%84%ED%95%9C%EB%94%A5%EB%9F%AC%EB%8B%9D/Ch5-4_inception_GoogLeNet.ipynb#ch0000005?line=41'>42</a>\u001b[0m     \u001b[39mreturn\u001b[39;00m X_train, Y_train, X_valid, Y_valid\n\u001b[1;32m---> <a href='vscode-notebook-cell:/d%3A/ivyStudy/ivystudy/funjongsoo/%EB%B9%84%EC%A0%84%EC%8B%9C%EC%8A%A4%ED%85%9C%EC%9D%84%EC%9C%84%ED%95%9C%EB%94%A5%EB%9F%AC%EB%8B%9D/Ch5-4_inception_GoogLeNet.ipynb#ch0000005?line=43'>44</a>\u001b[0m X_train, y_train, X_test, y_test \u001b[39m=\u001b[39m load_cifar10_data(\u001b[39m224\u001b[39;49m, \u001b[39m224\u001b[39;49m)\n",
      "\u001b[1;32md:\\ivyStudy\\ivystudy\\funjongsoo\\비전시스템을위한딥러닝\\Ch5-4_inception_GoogLeNet.ipynb Cell 5'\u001b[0m in \u001b[0;36mload_cifar10_data\u001b[1;34m(img_rows, img_cols)\u001b[0m\n\u001b[0;32m     <a href='vscode-notebook-cell:/d%3A/ivyStudy/ivystudy/funjongsoo/%EB%B9%84%EC%A0%84%EC%8B%9C%EC%8A%A4%ED%85%9C%EC%9D%84%EC%9C%84%ED%95%9C%EB%94%A5%EB%9F%AC%EB%8B%9D/Ch5-4_inception_GoogLeNet.ipynb#ch0000005?line=24'>25</a>\u001b[0m (X_train, Y_train), (X_valid, Y_valid) \u001b[39m=\u001b[39m cifar10\u001b[39m.\u001b[39mload_data()\n\u001b[0;32m     <a href='vscode-notebook-cell:/d%3A/ivyStudy/ivystudy/funjongsoo/%EB%B9%84%EC%A0%84%EC%8B%9C%EC%8A%A4%ED%85%9C%EC%9D%84%EC%9C%84%ED%95%9C%EB%94%A5%EB%9F%AC%EB%8B%9D/Ch5-4_inception_GoogLeNet.ipynb#ch0000005?line=26'>27</a>\u001b[0m \u001b[39m# Resize training images\u001b[39;00m\n\u001b[1;32m---> <a href='vscode-notebook-cell:/d%3A/ivyStudy/ivystudy/funjongsoo/%EB%B9%84%EC%A0%84%EC%8B%9C%EC%8A%A4%ED%85%9C%EC%9D%84%EC%9C%84%ED%95%9C%EB%94%A5%EB%9F%AC%EB%8B%9D/Ch5-4_inception_GoogLeNet.ipynb#ch0000005?line=27'>28</a>\u001b[0m X_train \u001b[39m=\u001b[39m np\u001b[39m.\u001b[39;49marray([cv2\u001b[39m.\u001b[39;49mresize(img, (img_rows,img_cols)) \u001b[39mfor\u001b[39;49;00m img \u001b[39min\u001b[39;49;00m X_train[:,:,:,:]])\n\u001b[0;32m     <a href='vscode-notebook-cell:/d%3A/ivyStudy/ivystudy/funjongsoo/%EB%B9%84%EC%A0%84%EC%8B%9C%EC%8A%A4%ED%85%9C%EC%9D%84%EC%9C%84%ED%95%9C%EB%94%A5%EB%9F%AC%EB%8B%9D/Ch5-4_inception_GoogLeNet.ipynb#ch0000005?line=28'>29</a>\u001b[0m X_valid \u001b[39m=\u001b[39m np\u001b[39m.\u001b[39marray([cv2\u001b[39m.\u001b[39mresize(img, (img_rows,img_cols)) \u001b[39mfor\u001b[39;00m img \u001b[39min\u001b[39;00m X_valid[:,:,:,:]])\n\u001b[0;32m     <a href='vscode-notebook-cell:/d%3A/ivyStudy/ivystudy/funjongsoo/%EB%B9%84%EC%A0%84%EC%8B%9C%EC%8A%A4%ED%85%9C%EC%9D%84%EC%9C%84%ED%95%9C%EB%94%A5%EB%9F%AC%EB%8B%9D/Ch5-4_inception_GoogLeNet.ipynb#ch0000005?line=30'>31</a>\u001b[0m \u001b[39m# Transform targets to keras compatible format\u001b[39;00m\n",
      "\u001b[1;31mMemoryError\u001b[0m: Unable to allocate 7.01 GiB for an array with shape (50000, 224, 224, 3) and data type uint8"
     ]
    }
   ],
   "source": [
    "import cv2\n",
    "import numpy as np \n",
    "import keras\n",
    "import math\n",
    "from keras.layers import Layer\n",
    "import keras.backend as K\n",
    "import tensorflow as tf\n",
    "from keras.datasets import cifar10\n",
    "from keras.models import Model\n",
    "from keras.layers import Conv2D, MaxPool2D,  \\\n",
    "    Dropout, Dense, Input, concatenate,      \\\n",
    "    GlobalAveragePooling2D, AveragePooling2D,\\\n",
    "    Flatten\n",
    "from keras.datasets import cifar10 \n",
    "from keras import backend as K \n",
    "from keras.utils import np_utils \n",
    "from tensorflow.keras.optimizers import SGD \n",
    "from keras.callbacks import LearningRateScheduler\n",
    "\n",
    "num_classes = 10\n",
    "\n",
    "def load_cifar10_data(img_rows, img_cols):\n",
    "\n",
    "    # Load cifar10 training and validation sets\n",
    "    (X_train, Y_train), (X_valid, Y_valid) = cifar10.load_data()\n",
    "\n",
    "    # Resize training images\n",
    "    X_train = np.array([cv2.resize(img, (img_rows,img_cols)) for img in X_train[:,:,:,:]])\n",
    "    X_valid = np.array([cv2.resize(img, (img_rows,img_cols)) for img in X_valid[:,:,:,:]])\n",
    "\n",
    "    # Transform targets to keras compatible format\n",
    "    Y_train = np_utils.to_categorical(Y_train, num_classes)\n",
    "    Y_valid = np_utils.to_categorical(Y_valid, num_classes)\n",
    "    \n",
    "    X_train = X_train.astype('float32')\n",
    "    X_valid = X_valid.astype('float32')\n",
    "\n",
    "    # preprocess data\n",
    "    X_train = X_train / 255.0\n",
    "    X_valid = X_valid / 255.0\n",
    "\n",
    "    return X_train, Y_train, X_valid, Y_valid\n",
    "\n",
    "X_train, y_train, X_test, y_test = load_cifar10_data(224, 224)"
   ]
  },
  {
   "cell_type": "code",
   "execution_count": null,
   "metadata": {},
   "outputs": [],
   "source": [
    "def inception_module(x,\n",
    "                     filters_1x1,\n",
    "                     filters_3x3_reduce,\n",
    "                     filters_3x3,\n",
    "                     filters_5x5_reduce,\n",
    "                     filters_5x5,\n",
    "                     filters_pool_proj,\n",
    "                     name=None):\n",
    "    \n",
    "    conv_1x1 = Conv2D(filters_1x1, (1, 1), padding='same', activation='relu', kernel_initializer=kernel_init, bias_initializer=bias_init)(x)\n",
    "    \n",
    "    conv_3x3 = Conv2D(filters_3x3_reduce, (1, 1), padding='same', activation='relu', kernel_initializer=kernel_init, bias_initializer=bias_init)(x)\n",
    "    conv_3x3 = Conv2D(filters_3x3, (3, 3), padding='same', activation='relu', kernel_initializer=kernel_init, bias_initializer=bias_init)(conv_3x3)\n",
    "\n",
    "    conv_5x5 = Conv2D(filters_5x5_reduce, (1, 1), padding='same', activation='relu', kernel_initializer=kernel_init, bias_initializer=bias_init)(x)\n",
    "    conv_5x5 = Conv2D(filters_5x5, (5, 5), padding='same', activation='relu', kernel_initializer=kernel_init, bias_initializer=bias_init)(conv_5x5)\n",
    "\n",
    "    pool_proj = MaxPool2D((3, 3), strides=(1, 1), padding='same')(x)\n",
    "    pool_proj = Conv2D(filters_pool_proj, (1, 1), padding='same', activation='relu', kernel_initializer=kernel_init, bias_initializer=bias_init)(pool_proj)\n",
    "\n",
    "    output = concatenate([conv_1x1, conv_3x3, conv_5x5, pool_proj], axis=3, name=name)\n",
    "    \n",
    "    return output"
   ]
  },
  {
   "cell_type": "code",
   "execution_count": null,
   "metadata": {},
   "outputs": [],
   "source": [
    "kernel_init = keras.initializers.glorot_uniform()\n",
    "bias_init = keras.initializers.Constant(value=0.2)"
   ]
  },
  {
   "cell_type": "code",
   "execution_count": null,
   "metadata": {},
   "outputs": [],
   "source": [
    "input_layer = Input(shape=(224, 224, 3))\n",
    "\n",
    "x = Conv2D(64, (7, 7), padding='same', strides=(2, 2), activation='relu', name='conv_1_7x7/2', kernel_initializer=kernel_init, bias_initializer=bias_init)(input_layer)\n",
    "x = MaxPool2D((3, 3), padding='same', strides=(2, 2), name='max_pool_1_3x3/2')(x)\n",
    "# x = Conv2D(64, (1, 1), padding='same', strides=(1, 1), activation='relu', name='conv_2a_3x3/1')(x)\n",
    "x = Conv2D(192, (3, 3), padding='same', strides=(1, 1), activation='relu', name='conv_2b_3x3/1')(x)\n",
    "x = MaxPool2D((3, 3), padding='same', strides=(2, 2), name='max_pool_2_3x3/2')(x)\n",
    "\n",
    "x = inception_module(x,\n",
    "                     filters_1x1=64,\n",
    "                     filters_3x3_reduce=96,\n",
    "                     filters_3x3=128,\n",
    "                     filters_5x5_reduce=16,\n",
    "                     filters_5x5=32,\n",
    "                     filters_pool_proj=32,\n",
    "                     name='inception_3a')\n",
    "\n",
    "x = inception_module(x,\n",
    "                     filters_1x1=128,\n",
    "                     filters_3x3_reduce=128,\n",
    "                     filters_3x3=192,\n",
    "                     filters_5x5_reduce=32,\n",
    "                     filters_5x5=96,\n",
    "                     filters_pool_proj=64,\n",
    "                     name='inception_3b')\n",
    "\n",
    "x = MaxPool2D((3, 3), padding='same', strides=(2, 2), name='max_pool_3_3x3/2')(x)\n",
    "\n",
    "x = inception_module(x,\n",
    "                     filters_1x1=192,\n",
    "                     filters_3x3_reduce=96,\n",
    "                     filters_3x3=208,\n",
    "                     filters_5x5_reduce=16,\n",
    "                     filters_5x5=48,\n",
    "                     filters_pool_proj=64,\n",
    "                     name='inception_4a')\n",
    "\n",
    "\n",
    "classifier_1 = AveragePooling2D((5, 5), strides=3)(x)\n",
    "classifier_1 = Conv2D(128, (1, 1), padding='same', activation='relu')(classifier_1)\n",
    "classifier_1 = Flatten()(classifier_1)\n",
    "classifier_1 = Dense(1024, activation='relu')(classifier_1)\n",
    "classifier_1 = Dropout(0.7)(classifier_1)\n",
    "classifier_1 = Dense(10, activation='softmax', name='auxilliary_output_1')(classifier_1)\n",
    "\n",
    "x = inception_module(x,\n",
    "                     filters_1x1=160,\n",
    "                     filters_3x3_reduce=112,\n",
    "                     filters_3x3=224,\n",
    "                     filters_5x5_reduce=24,\n",
    "                     filters_5x5=64,\n",
    "                     filters_pool_proj=64,\n",
    "                     name='inception_4b')\n",
    "\n",
    "x = inception_module(x,\n",
    "                     filters_1x1=128,\n",
    "                     filters_3x3_reduce=128,\n",
    "                     filters_3x3=256,\n",
    "                     filters_5x5_reduce=24,\n",
    "                     filters_5x5=64,\n",
    "                     filters_pool_proj=64,\n",
    "                     name='inception_4c')\n",
    "\n",
    "x = inception_module(x,\n",
    "                     filters_1x1=112,\n",
    "                     filters_3x3_reduce=144,\n",
    "                     filters_3x3=288,\n",
    "                     filters_5x5_reduce=32,\n",
    "                     filters_5x5=64,\n",
    "                     filters_pool_proj=64,\n",
    "                     name='inception_4d')\n",
    "\n",
    "\n",
    "classifier_2 = AveragePooling2D((5, 5), strides=3)(x)\n",
    "classifier_2 = Conv2D(128, (1, 1), padding='same', activation='relu')(classifier_2)\n",
    "classifier_2 = Flatten()(classifier_2)\n",
    "classifier_2 = Dense(1024, activation='relu')(classifier_2)\n",
    "classifier_2 = Dropout(0.7)(classifier_2)\n",
    "classifier_2 = Dense(10, activation='softmax', name='auxilliary_output_2')(classifier_2)\n",
    "\n",
    "x = inception_module(x,\n",
    "                     filters_1x1=256,\n",
    "                     filters_3x3_reduce=160,\n",
    "                     filters_3x3=320,\n",
    "                     filters_5x5_reduce=32,\n",
    "                     filters_5x5=128,\n",
    "                     filters_pool_proj=128,\n",
    "                     name='inception_4e')\n",
    "\n",
    "x = MaxPool2D((3, 3), padding='same', strides=(2, 2), name='max_pool_4_3x3/2')(x)\n",
    "\n",
    "x = inception_module(x,\n",
    "                     filters_1x1=256,\n",
    "                     filters_3x3_reduce=160,\n",
    "                     filters_3x3=320,\n",
    "                     filters_5x5_reduce=32,\n",
    "                     filters_5x5=128,\n",
    "                     filters_pool_proj=128,\n",
    "                     name='inception_5a')\n",
    "\n",
    "x = inception_module(x,\n",
    "                     filters_1x1=384,\n",
    "                     filters_3x3_reduce=192,\n",
    "                     filters_3x3=384,\n",
    "                     filters_5x5_reduce=48,\n",
    "                     filters_5x5=128,\n",
    "                     filters_pool_proj=128,\n",
    "                     name='inception_5b')\n",
    "\n",
    "x = AveragePooling2D(pool_size=(7,7), strides=1, padding='valid',name='avg_pool_5_3x3/1')(x)\n",
    "\n",
    "x = Dropout(0.4)(x)\n",
    "x = Dense(1000, activation='relu', name='linear')(x)\n",
    "x = Dense(1000, activation='softmax', name='output')(x)"
   ]
  },
  {
   "cell_type": "code",
   "execution_count": null,
   "metadata": {},
   "outputs": [],
   "source": [
    "model = Model(input_layer, [x], name='googlenet')"
   ]
  },
  {
   "cell_type": "code",
   "execution_count": null,
   "metadata": {},
   "outputs": [],
   "source": [
    "model.summary()"
   ]
  },
  {
   "cell_type": "code",
   "execution_count": null,
   "metadata": {},
   "outputs": [],
   "source": [
    "model_with_classifiers = Model(input_layer, [x, classifier_1, classifier_2], name='googlenet_complete_architecture')\n",
    "model_with_classifiers.summary()"
   ]
  },
  {
   "cell_type": "code",
   "execution_count": null,
   "metadata": {},
   "outputs": [],
   "source": [
    "epochs = 25\n",
    "initial_lrate = 0.01\n",
    "\n",
    "def decay(epoch, steps=100):\n",
    "    initial_lrate = 0.01\n",
    "    drop = 0.96\n",
    "    epochs_drop = 8\n",
    "    lrate = initial_lrate * math.pow(drop, math.floor((1+epoch)/epochs_drop))\n",
    "    return lrate\n",
    "\n",
    "sgd = SGD(lr=initial_lrate, momentum=0.9, nesterov=False)\n",
    "\n",
    "lr_sc = LearningRateScheduler(decay, verbose=1)\n",
    "\n",
    "model_with_classifiers.compile(loss=['categorical_crossentropy', 'categorical_crossentropy', 'categorical_crossentropy'], \n",
    "              loss_weights=[1, 0.3, 0.3], optimizer=sgd, metrics=['accuracy'])\n",
    "\n",
    "history = model_with_classifiers.fit(X_train, [y_train, y_train, y_train], validation_data=(X_test, [y_test, y_test, y_test]), \n",
    "                    epochs=epochs, batch_size=256, callbacks=[lr_sc])"
   ]
  }
 ],
 "metadata": {
  "interpreter": {
   "hash": "d99a3f7b344b3c3107482760db15f42178bfad658d282ab0a919b76809e13cb5"
  },
  "kernelspec": {
   "display_name": "Python 3.10.1 64-bit",
   "language": "python",
   "name": "python3"
  },
  "language_info": {
   "codemirror_mode": {
    "name": "ipython",
    "version": 3
   },
   "file_extension": ".py",
   "mimetype": "text/x-python",
   "name": "python",
   "nbconvert_exporter": "python",
   "pygments_lexer": "ipython3",
   "version": "3.10.1"
  },
  "orig_nbformat": 4
 },
 "nbformat": 4,
 "nbformat_minor": 2
}
