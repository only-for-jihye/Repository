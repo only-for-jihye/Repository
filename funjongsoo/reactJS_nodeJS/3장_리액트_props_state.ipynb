{
 "cells": [
  {
   "cell_type": "markdown",
   "metadata": {},
   "source": [
    "<img src=\"props_state.png\">"
   ]
  }
 ],
 "metadata": {
  "kernelspec": {
   "display_name": "Python 3.10.4 64-bit",
   "language": "python",
   "name": "python3"
  },
  "language_info": {
   "name": "python",
   "version": "3.10.4"
  },
  "orig_nbformat": 4,
  "vscode": {
   "interpreter": {
    "hash": "d96baa7c520824e7eb1c5cb4483a3e2c6189bb22aa79ebe90ca247a0e89c4c75"
   }
  }
 },
 "nbformat": 4,
 "nbformat_minor": 2
}
